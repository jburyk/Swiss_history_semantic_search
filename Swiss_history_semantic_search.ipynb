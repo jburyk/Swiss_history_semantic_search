{
  "nbformat": 4,
  "nbformat_minor": 0,
  "metadata": {
    "colab": {
      "provenance": [],
      "authorship_tag": "ABX9TyP2TXPg6naiIw36pxHuv725",
      "include_colab_link": true
    },
    "kernelspec": {
      "name": "python3",
      "display_name": "Python 3"
    },
    "language_info": {
      "name": "python"
    },
    "gpuClass": "standard"
  },
  "cells": [
    {
      "cell_type": "markdown",
      "metadata": {
        "id": "view-in-github",
        "colab_type": "text"
      },
      "source": [
        "<a href=\"https://colab.research.google.com/github/jburyk/Swiss_history_semantic_search/blob/main/Swiss_history_semantic_search.ipynb\" target=\"_parent\"><img src=\"https://colab.research.google.com/assets/colab-badge.svg\" alt=\"Open In Colab\"/></a>"
      ]
    },
    {
      "cell_type": "markdown",
      "source": [
        "Install required packages\n"
      ],
      "metadata": {
        "id": "w_L0fzm9_TIL"
      }
    },
    {
      "cell_type": "code",
      "execution_count": 1,
      "metadata": {
        "id": "WLSkaqmX9ghb",
        "colab": {
          "base_uri": "https://localhost:8080/"
        },
        "outputId": "06913b8b-e864-46f3-86ed-88a2f7b7284a"
      },
      "outputs": [
        {
          "output_type": "stream",
          "name": "stdout",
          "text": [
            "\u001b[2K     \u001b[90m━━━━━━━━━━━━━━━━━━━━━━━━━━━━━━━━━━━━━━━━\u001b[0m \u001b[32m14.2/14.2 MB\u001b[0m \u001b[31m69.5 MB/s\u001b[0m eta \u001b[36m0:00:00\u001b[0m\n",
            "\u001b[2K     \u001b[90m━━━━━━━━━━━━━━━━━━━━━━━━━━━━━━━━━━━━━━\u001b[0m \u001b[32m190.6/190.6 kB\u001b[0m \u001b[31m19.5 MB/s\u001b[0m eta \u001b[36m0:00:00\u001b[0m\n",
            "\u001b[2K     \u001b[90m━━━━━━━━━━━━━━━━━━━━━━━━━━━━━━━━━━━━━━━━\u001b[0m \u001b[32m89.7/89.7 kB\u001b[0m \u001b[31m9.0 MB/s\u001b[0m eta \u001b[36m0:00:00\u001b[0m\n",
            "\u001b[?25h  Preparing metadata (setup.py) ... \u001b[?25l\u001b[?25hdone\n",
            "\u001b[2K     \u001b[90m━━━━━━━━━━━━━━━━━━━━━━━━━━━━━━━━━━━━━━━━\u001b[0m \u001b[32m2.7/2.7 MB\u001b[0m \u001b[31m50.2 MB/s\u001b[0m eta \u001b[36m0:00:00\u001b[0m\n",
            "\u001b[2K     \u001b[90m━━━━━━━━━━━━━━━━━━━━━━━━━━━━━━━━━━━━━━\u001b[0m \u001b[32m135.6/135.6 kB\u001b[0m \u001b[31m11.2 MB/s\u001b[0m eta \u001b[36m0:00:00\u001b[0m\n",
            "\u001b[2K     \u001b[90m━━━━━━━━━━━━━━━━━━━━━━━━━━━━━━━━━━━━━━━━\u001b[0m \u001b[32m2.6/2.6 MB\u001b[0m \u001b[31m60.0 MB/s\u001b[0m eta \u001b[36m0:00:00\u001b[0m\n",
            "\u001b[2K     \u001b[90m━━━━━━━━━━━━━━━━━━━━━━━━━━━━━━━━━━━━━━\u001b[0m \u001b[32m152.0/152.0 kB\u001b[0m \u001b[31m16.1 MB/s\u001b[0m eta \u001b[36m0:00:00\u001b[0m\n",
            "\u001b[?25h  Preparing metadata (setup.py) ... \u001b[?25l\u001b[?25hdone\n",
            "\u001b[2K     \u001b[90m━━━━━━━━━━━━━━━━━━━━━━━━━━━━━━━━━━━━━━\u001b[0m \u001b[32m516.2/516.2 kB\u001b[0m \u001b[31m39.5 MB/s\u001b[0m eta \u001b[36m0:00:00\u001b[0m\n",
            "\u001b[?25h  Preparing metadata (setup.py) ... \u001b[?25l\u001b[?25hdone\n",
            "  Building wheel for crcmod (setup.py) ... \u001b[?25l\u001b[?25hdone\n",
            "  Building wheel for dill (setup.py) ... \u001b[?25l\u001b[?25hdone\n",
            "  Building wheel for docopt (setup.py) ... \u001b[?25l\u001b[?25hdone\n"
          ]
        }
      ],
      "source": [
        "!pip install -qU langchain openai tiktoken pinecone-client[grpc] apache_beam mwparserfromhell"
      ]
    },
    {
      "cell_type": "code",
      "source": [
        "from getpass import getpass\n",
        "OPENAI_API_KEY = getpass('Enter OpenAI key: ')\n",
        "PINECONE_API_KEY = getpass('Enter Pinecone key: ')"
      ],
      "metadata": {
        "id": "vBxulQz3-Dx4",
        "colab": {
          "base_uri": "https://localhost:8080/"
        },
        "outputId": "ede45bf9-60b4-4999-e9eb-dfc5a297faf4"
      },
      "execution_count": 8,
      "outputs": [
        {
          "name": "stdout",
          "output_type": "stream",
          "text": [
            "Enter OpenAI key: ··········\n",
            "Enter Pinecone key: ··········\n"
          ]
        }
      ]
    },
    {
      "cell_type": "code",
      "source": [
        "def open_file(filepath):\n",
        "    with open(filepath, 'r', encoding='utf-8') as infile:\n",
        "        return infile.read()\n",
        "\n",
        "inputText = open_file('Switzerland.txt')\n",
        "inputText = inputText.replace('\\n', ' ').replace('\\r', '')\n"
      ],
      "metadata": {
        "id": "UF0Wu8KiAlG6"
      },
      "execution_count": 2,
      "outputs": []
    },
    {
      "cell_type": "code",
      "source": [
        "import tiktoken\n",
        "\n",
        "def tiktoken_len(text):\n",
        "    tokens = tokenizer.encode(\n",
        "        text,\n",
        "        disallowed_special=()\n",
        "    )\n",
        "    return len(tokens)\n",
        "\n",
        "tokenizer = tiktoken.get_encoding('cl100k_base')"
      ],
      "metadata": {
        "id": "DokpJNujB60K"
      },
      "execution_count": 3,
      "outputs": []
    },
    {
      "cell_type": "code",
      "source": [
        "tiktoken_len(inputText)"
      ],
      "metadata": {
        "colab": {
          "base_uri": "https://localhost:8080/"
        },
        "id": "l5eMGpIqCHiY",
        "outputId": "8b6b3517-8040-45bd-e31b-0b2241ef5d34"
      },
      "execution_count": 4,
      "outputs": [
        {
          "output_type": "execute_result",
          "data": {
            "text/plain": [
              "16674"
            ]
          },
          "metadata": {},
          "execution_count": 4
        }
      ]
    },
    {
      "cell_type": "code",
      "source": [
        "from langchain.text_splitter import RecursiveCharacterTextSplitter\n",
        "text_splitter = RecursiveCharacterTextSplitter(\n",
        "        chunk_size=150,\n",
        "        chunk_overlap=20,\n",
        "        length_function=tiktoken_len,\n",
        "        separators=[\"\\n\\n\", \"\\n\", \" \", \"\"]\n",
        "    )\n",
        "\n",
        "chunks = text_splitter.split_text(inputText)"
      ],
      "metadata": {
        "id": "Dm2qnDwgDciI"
      },
      "execution_count": 5,
      "outputs": []
    },
    {
      "cell_type": "code",
      "source": [
        "chunks[1]"
      ],
      "metadata": {
        "colab": {
          "base_uri": "https://localhost:8080/",
          "height": 87
        },
        "id": "kwpSKqrYI3G9",
        "outputId": "2296de5a-1399-4185-c33e-6646b2c9b967"
      },
      "execution_count": 6,
      "outputs": [
        {
          "output_type": "execute_result",
          "data": {
            "text/plain": [
              "'franchises. Unlike all similar confederations (e.g., the Hanseatic and Swabian leagues) and despite endemic internal strife, especially after the Reformation in the 16th century, the Swiss Confederation survived the formation of (princely) modern states without adapting to it. With Venice, Genoa, and the Netherlands, the confederation formed the republican exception in Europe, and it'"
            ],
            "application/vnd.google.colaboratory.intrinsic+json": {
              "type": "string"
            }
          },
          "metadata": {},
          "execution_count": 6
        }
      ]
    },
    {
      "cell_type": "code",
      "source": [
        "from langchain.embeddings.openai import OpenAIEmbeddings\n",
        "\n",
        "model_name = 'text-embedding-ada-002'\n",
        "\n",
        "embed = OpenAIEmbeddings(   \n",
        "    openai_api_key=OPENAI_API_KEY\n",
        ")"
      ],
      "metadata": {
        "id": "UDEakIDFI6nt"
      },
      "execution_count": 10,
      "outputs": []
    },
    {
      "cell_type": "code",
      "source": [
        "texts = [\n",
        "    'this is the first chunk of text',\n",
        "    'then another second chunk of text is here'\n",
        "]\n",
        "\n",
        "res = embed.embed_documents(texts)\n",
        "len(res), len(res[0])\n"
      ],
      "metadata": {
        "colab": {
          "base_uri": "https://localhost:8080/"
        },
        "id": "uB9njx-bMe5D",
        "outputId": "ada74995-fd4b-462c-d9d9-79e4b90ebf75"
      },
      "execution_count": 11,
      "outputs": [
        {
          "output_type": "execute_result",
          "data": {
            "text/plain": [
              "(2, 1536)"
            ]
          },
          "metadata": {},
          "execution_count": 11
        }
      ]
    },
    {
      "cell_type": "code",
      "source": [
        "import pinecone\n",
        "\n",
        "# find API key in console at app.pinecone.io\n",
        "\n",
        "# find ENV (cloud region) next to API key in console\n",
        "YOUR_ENV = input(\"Pinecone environment: \")\n",
        "\n",
        "index_name = 'langchain-retrieval-augmentation'\n",
        "pinecone.init(\n",
        "    api_key=PINECONE_API_KEY,\n",
        "    environment='asia-southeast1-gcp'\n",
        ")\n",
        "\n",
        "# we create a new index\n",
        "pinecone.create_index(\n",
        "    name=index_name,\n",
        "    metric='dotproduct',\n",
        "    dimension=len(res[0])  # 1536 dim of text-embedding-ada-002\n",
        ")"
      ],
      "metadata": {
        "colab": {
          "base_uri": "https://localhost:8080/"
        },
        "id": "y2vmajPUMjJY",
        "outputId": "ab55d4b6-3453-4953-99d4-4976767c80f0"
      },
      "execution_count": 12,
      "outputs": [
        {
          "output_type": "stream",
          "name": "stderr",
          "text": [
            "/usr/local/lib/python3.10/dist-packages/pinecone/index.py:4: TqdmExperimentalWarning: Using `tqdm.autonotebook.tqdm` in notebook mode. Use `tqdm.tqdm` instead to force console mode (e.g. in jupyter console)\n",
            "  from tqdm.autonotebook import tqdm\n"
          ]
        },
        {
          "name": "stdout",
          "output_type": "stream",
          "text": [
            "Pinecone environment: asia-southeast1-gcp\n"
          ]
        }
      ]
    },
    {
      "cell_type": "code",
      "source": [
        "index = pinecone.GRPCIndex(index_name)\n",
        "\n",
        "index.describe_index_stats()"
      ],
      "metadata": {
        "id": "w_Sxj2FtTDdB",
        "outputId": "27647042-74f6-450d-b985-ead6818c1eee",
        "colab": {
          "base_uri": "https://localhost:8080/"
        }
      },
      "execution_count": 28,
      "outputs": [
        {
          "output_type": "execute_result",
          "data": {
            "text/plain": [
              "{'dimension': 1536,\n",
              " 'index_fullness': 0.0,\n",
              " 'namespaces': {'': {'vector_count': 200}},\n",
              " 'total_vector_count': 200}"
            ]
          },
          "metadata": {},
          "execution_count": 28
        }
      ]
    },
    {
      "cell_type": "code",
      "source": [
        "from tqdm.auto import tqdm\n",
        "from uuid import uuid4\n",
        "from pprint import pprint\n",
        "\n",
        "batch_limit = 100\n",
        "\n",
        "texts = []\n",
        "metadatas = []\n",
        "\n",
        "for i, text in enumerate(chunks):\n",
        "    # first get metadata fields for this record\n",
        "    \n",
        "    # now we create chunks from the record text\n",
        "    \n",
        "    # create individual metadata dicts for each chunk\n",
        "    record_metadata = {\"chunk\": i, \"text\": text }   \n",
        "#    pprint(text)\n",
        "#    pprint(record_metadata)\n",
        "    # append these to current batches\n",
        "    texts.append(text)\n",
        "    metadatas.append(record_metadata)\n",
        "    # if we have reached the batch_limit we can add texts\n",
        "    if len(texts) >= batch_limit:\n",
        "        pprint(texts[0])        \n",
        "        pprint(metadatas[0])        \n",
        "        ids = [str(uuid4()) for _ in range(len(texts))]        \n",
        "        #pprint(metadatas[0])\n",
        "        embeds = embed.embed_documents(texts)\n",
        "        index.upsert(vectors=zip(ids, embeds, metadatas))\n",
        "        texts = []\n",
        "        metadatas = []"
      ],
      "metadata": {
        "id": "s-5iOTXeTFxw",
        "outputId": "eb4de1fa-7a8b-44c7-ea76-d35e218587a9",
        "colab": {
          "base_uri": "https://localhost:8080/"
        }
      },
      "execution_count": 27,
      "outputs": [
        {
          "output_type": "stream",
          "name": "stdout",
          "text": [
            "('Switzerland’s history is one of a medieval defensive league formed during a '\n",
            " 'time and in an area lacking imperial authority. The different cantons '\n",
            " '(traditionally called Orte in German) were to a large extent independent '\n",
            " 'states that remained united through the shared defense of liberty, which was '\n",
            " 'understood as the protection of imperial privileges and franchises. Unlike '\n",
            " 'all similar confederations (e.g., the')\n",
            "{'chunk': 0,\n",
            " 'text': 'Switzerland’s history is one of a medieval defensive league formed '\n",
            "         'during a time and in an area lacking imperial authority. The '\n",
            "         'different cantons (traditionally called Orte in German) were to a '\n",
            "         'large extent independent states that remained united through the '\n",
            "         'shared defense of liberty, which was understood as the protection of '\n",
            "         'imperial privileges and franchises. Unlike all similar '\n",
            "         'confederations (e.g., the'}\n",
            "('which had joined to form theChristian Union, but little fighting occurred in '\n",
            " 'this first conflict, thanks to the compromise symbolized by the '\n",
            " 'famousKappeler Milchsuppe, a soup of milk and bread shared on the front by '\n",
            " 'the two opposing armies. In the conflict’s aftermath, Zwingli insisted on '\n",
            " 'and used economic pressure to achieve the Reformation of the whole Swiss '\n",
            " 'Confederation.')\n",
            "{'chunk': 100,\n",
            " 'text': 'which had joined to form theChristian Union, but little fighting '\n",
            "         'occurred in this first conflict, thanks to the compromise symbolized '\n",
            "         'by the famousKappeler Milchsuppe, a soup of milk and bread shared on '\n",
            "         'the front by the two opposing armies. In the conflict’s aftermath, '\n",
            "         'Zwingli insisted on and used economic pressure to achieve the '\n",
            "         'Reformation of the whole Swiss Confederation.'}\n"
          ]
        }
      ]
    },
    {
      "cell_type": "code",
      "source": [
        "from langchain.vectorstores import Pinecone\n",
        "\n",
        "text_field = \"text\"\n",
        "\n",
        "# switch back to normal index for langchain\n",
        "index = pinecone.Index(index_name)\n",
        "\n",
        "vectorstore = Pinecone(\n",
        "    index, embed.embed_query, text_field\n",
        ")"
      ],
      "metadata": {
        "id": "iYbvbuvIVbXf"
      },
      "execution_count": 29,
      "outputs": []
    },
    {
      "cell_type": "code",
      "source": [
        "query = \"food\"\n",
        "\n",
        "vectorstore.similarity_search(\n",
        "    query,  # our search query\n",
        "    k=3  # return 3 most relevant docs\n",
        ")"
      ],
      "metadata": {
        "id": "RKUqvCZ5VeTN",
        "outputId": "e5da1e71-d12a-4110-e35a-58f92527975e",
        "colab": {
          "base_uri": "https://localhost:8080/"
        }
      },
      "execution_count": 38,
      "outputs": [
        {
          "output_type": "execute_result",
          "data": {
            "text/plain": [
              "[Document(page_content='political power tinged with nepotism was characteristic of the bourgeois capitalism of Escher’s time.  Another effect of the quick development of rail (and maritime) transportation was the growing importation of cheap cereals, which plunged Swiss agriculture into crisis. In 1850 more than half the grain consumed was produced domestically, but by 1914 that measure stood at about', metadata={'chunk': 168.0}),\n",
              " Document(page_content='vegetables were brought from the south. The grapevine was introduced despite attempts by Roman legislators to prevent wine from being produced north of the Alps. To facilitate increasing exports of wheat, cattle, and cheese, as well as to provide better lines of communication for military purposes, roads connecting Rome and the northern outposts of the empire were extended and improved', metadata={'chunk': 19.0}),\n",
              " Document(page_content='prey, mainly reindeer and bear, into the high mountain valleys. Toward the end of the Würm, about 12,000 bce, Homo sapiens appeared; after the melting of the glaciers, Neolithic cultures established corn (maize) growing and animal breeding in parts of the Rhône and Rhine valleys (about 5000bce). From about 1800 bce, Bronze', metadata={'chunk': 10.0})]"
            ]
          },
          "metadata": {},
          "execution_count": 38
        }
      ]
    },
    {
      "cell_type": "code",
      "source": [],
      "metadata": {
        "id": "307Q6Dv4Xo4v"
      },
      "execution_count": null,
      "outputs": []
    }
  ]
}